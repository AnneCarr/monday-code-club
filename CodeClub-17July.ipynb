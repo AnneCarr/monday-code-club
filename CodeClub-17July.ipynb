{
 "cells": [
  {
   "cell_type": "code",
   "execution_count": 1,
   "metadata": {
    "collapsed": true
   },
   "outputs": [],
   "source": [
    "import pandas as pd "
   ]
  },
  {
   "cell_type": "markdown",
   "metadata": {},
   "source": [
    "## Use Markdown to give your notebooks headings and comments\n",
    "Get formatting and [Markdown tips](https://help.github.com/articles/basic-writing-and-formatting-syntax/)"
   ]
  },
  {
   "cell_type": "markdown",
   "metadata": {},
   "source": [
    "Open your data"
   ]
  },
  {
   "cell_type": "code",
   "execution_count": 2,
   "metadata": {},
   "outputs": [
    {
     "name": "stderr",
     "output_type": "stream",
     "text": [
      "/Users/sarahdean/workspace/learning/devEnvLearning/lib/python3.6/site-packages/IPython/core/interactiveshell.py:2698: DtypeWarning: Columns (4) have mixed types. Specify dtype option on import or set low_memory=False.\n",
      "  interactivity=interactivity, compiler=compiler, result=result)\n"
     ]
    }
   ],
   "source": [
    "gp_data = pd.read_csv('gp_pat.csv')"
   ]
  },
  {
   "cell_type": "markdown",
   "metadata": {},
   "source": [
    "View the top 5 rows of data"
   ]
  },
  {
   "cell_type": "code",
   "execution_count": 3,
   "metadata": {},
   "outputs": [
    {
     "data": {
      "text/html": [
       "<div>\n",
       "<style>\n",
       "    .dataframe thead tr:only-child th {\n",
       "        text-align: right;\n",
       "    }\n",
       "\n",
       "    .dataframe thead th {\n",
       "        text-align: left;\n",
       "    }\n",
       "\n",
       "    .dataframe tbody tr th {\n",
       "        vertical-align: top;\n",
       "    }\n",
       "</style>\n",
       "<table border=\"1\" class=\"dataframe\">\n",
       "  <thead>\n",
       "    <tr style=\"text-align: right;\">\n",
       "      <th></th>\n",
       "      <th>PUBLICATION</th>\n",
       "      <th>EXTRACT_DATE</th>\n",
       "      <th>ORG_TYPE</th>\n",
       "      <th>ORG_CODE</th>\n",
       "      <th>ONS_CODE</th>\n",
       "      <th>POSTCODE</th>\n",
       "      <th>SEX</th>\n",
       "      <th>AGE_GROUP_5</th>\n",
       "      <th>NUMBER_OF_PATIENTS</th>\n",
       "    </tr>\n",
       "  </thead>\n",
       "  <tbody>\n",
       "    <tr>\n",
       "      <th>0</th>\n",
       "      <td>GP_PRAC_PAT_LIST</td>\n",
       "      <td>01-Apr-17</td>\n",
       "      <td>Comm Region</td>\n",
       "      <td>Y54</td>\n",
       "      <td>E40000001</td>\n",
       "      <td>NaN</td>\n",
       "      <td>ALL</td>\n",
       "      <td>ALL</td>\n",
       "      <td>16220286</td>\n",
       "    </tr>\n",
       "    <tr>\n",
       "      <th>1</th>\n",
       "      <td>GP_PRAC_PAT_LIST</td>\n",
       "      <td>01-Apr-17</td>\n",
       "      <td>Comm Region</td>\n",
       "      <td>Y54</td>\n",
       "      <td>E40000001</td>\n",
       "      <td>NaN</td>\n",
       "      <td>FEMALE</td>\n",
       "      <td>0_4</td>\n",
       "      <td>444609</td>\n",
       "    </tr>\n",
       "    <tr>\n",
       "      <th>2</th>\n",
       "      <td>GP_PRAC_PAT_LIST</td>\n",
       "      <td>01-Apr-17</td>\n",
       "      <td>Comm Region</td>\n",
       "      <td>Y54</td>\n",
       "      <td>E40000001</td>\n",
       "      <td>NaN</td>\n",
       "      <td>FEMALE</td>\n",
       "      <td>5_9</td>\n",
       "      <td>477023</td>\n",
       "    </tr>\n",
       "    <tr>\n",
       "      <th>3</th>\n",
       "      <td>GP_PRAC_PAT_LIST</td>\n",
       "      <td>01-Apr-17</td>\n",
       "      <td>Comm Region</td>\n",
       "      <td>Y54</td>\n",
       "      <td>E40000001</td>\n",
       "      <td>NaN</td>\n",
       "      <td>FEMALE</td>\n",
       "      <td>10_14</td>\n",
       "      <td>439112</td>\n",
       "    </tr>\n",
       "    <tr>\n",
       "      <th>4</th>\n",
       "      <td>GP_PRAC_PAT_LIST</td>\n",
       "      <td>01-Apr-17</td>\n",
       "      <td>Comm Region</td>\n",
       "      <td>Y54</td>\n",
       "      <td>E40000001</td>\n",
       "      <td>NaN</td>\n",
       "      <td>FEMALE</td>\n",
       "      <td>15_19</td>\n",
       "      <td>446453</td>\n",
       "    </tr>\n",
       "  </tbody>\n",
       "</table>\n",
       "</div>"
      ],
      "text/plain": [
       "        PUBLICATION EXTRACT_DATE     ORG_TYPE ORG_CODE   ONS_CODE POSTCODE  \\\n",
       "0  GP_PRAC_PAT_LIST    01-Apr-17  Comm Region      Y54  E40000001      NaN   \n",
       "1  GP_PRAC_PAT_LIST    01-Apr-17  Comm Region      Y54  E40000001      NaN   \n",
       "2  GP_PRAC_PAT_LIST    01-Apr-17  Comm Region      Y54  E40000001      NaN   \n",
       "3  GP_PRAC_PAT_LIST    01-Apr-17  Comm Region      Y54  E40000001      NaN   \n",
       "4  GP_PRAC_PAT_LIST    01-Apr-17  Comm Region      Y54  E40000001      NaN   \n",
       "\n",
       "      SEX AGE_GROUP_5  NUMBER_OF_PATIENTS  \n",
       "0     ALL         ALL            16220286  \n",
       "1  FEMALE         0_4              444609  \n",
       "2  FEMALE         5_9              477023  \n",
       "3  FEMALE       10_14              439112  \n",
       "4  FEMALE       15_19              446453  "
      ]
     },
     "execution_count": 3,
     "metadata": {},
     "output_type": "execute_result"
    }
   ],
   "source": [
    "gp_data.head()"
   ]
  },
  {
   "cell_type": "markdown",
   "metadata": {},
   "source": [
    "Use a # to write quick comments in the code "
   ]
  },
  {
   "cell_type": "code",
   "execution_count": 4,
   "metadata": {},
   "outputs": [
    {
     "data": {
      "text/plain": [
       "Index(['PUBLICATION', 'EXTRACT_DATE', 'ORG_TYPE', 'ORG_CODE', 'ONS_CODE',\n",
       "       'POSTCODE', 'SEX', 'AGE_GROUP_5', 'NUMBER_OF_PATIENTS'],\n",
       "      dtype='object')"
      ]
     },
     "execution_count": 4,
     "metadata": {},
     "output_type": "execute_result"
    }
   ],
   "source": [
    "# get a list of the column names - then go back and assign it to a variable, and extract a value from the list\n",
    "gp_data.keys()"
   ]
  },
  {
   "cell_type": "code",
   "execution_count": 5,
   "metadata": {
    "collapsed": true
   },
   "outputs": [],
   "source": [
    "# slice data by a value in a column"
   ]
  },
  {
   "cell_type": "code",
   "execution_count": 6,
   "metadata": {
    "collapsed": true
   },
   "outputs": [],
   "source": [
    "gp_data_all=gp_data.where(gp_data['SEX']=='ALL')"
   ]
  },
  {
   "cell_type": "code",
   "execution_count": 7,
   "metadata": {},
   "outputs": [
    {
     "data": {
      "text/html": [
       "<div>\n",
       "<style>\n",
       "    .dataframe thead tr:only-child th {\n",
       "        text-align: right;\n",
       "    }\n",
       "\n",
       "    .dataframe thead th {\n",
       "        text-align: left;\n",
       "    }\n",
       "\n",
       "    .dataframe tbody tr th {\n",
       "        vertical-align: top;\n",
       "    }\n",
       "</style>\n",
       "<table border=\"1\" class=\"dataframe\">\n",
       "  <thead>\n",
       "    <tr style=\"text-align: right;\">\n",
       "      <th></th>\n",
       "      <th>PUBLICATION</th>\n",
       "      <th>EXTRACT_DATE</th>\n",
       "      <th>ORG_TYPE</th>\n",
       "      <th>ORG_CODE</th>\n",
       "      <th>ONS_CODE</th>\n",
       "      <th>POSTCODE</th>\n",
       "      <th>SEX</th>\n",
       "      <th>AGE_GROUP_5</th>\n",
       "      <th>NUMBER_OF_PATIENTS</th>\n",
       "    </tr>\n",
       "  </thead>\n",
       "  <tbody>\n",
       "    <tr>\n",
       "      <th>331826</th>\n",
       "      <td>NaN</td>\n",
       "      <td>NaN</td>\n",
       "      <td>NaN</td>\n",
       "      <td>NaN</td>\n",
       "      <td>NaN</td>\n",
       "      <td>NaN</td>\n",
       "      <td>NaN</td>\n",
       "      <td>NaN</td>\n",
       "      <td>NaN</td>\n",
       "    </tr>\n",
       "    <tr>\n",
       "      <th>331827</th>\n",
       "      <td>NaN</td>\n",
       "      <td>NaN</td>\n",
       "      <td>NaN</td>\n",
       "      <td>NaN</td>\n",
       "      <td>NaN</td>\n",
       "      <td>NaN</td>\n",
       "      <td>NaN</td>\n",
       "      <td>NaN</td>\n",
       "      <td>NaN</td>\n",
       "    </tr>\n",
       "    <tr>\n",
       "      <th>331828</th>\n",
       "      <td>NaN</td>\n",
       "      <td>NaN</td>\n",
       "      <td>NaN</td>\n",
       "      <td>NaN</td>\n",
       "      <td>NaN</td>\n",
       "      <td>NaN</td>\n",
       "      <td>NaN</td>\n",
       "      <td>NaN</td>\n",
       "      <td>NaN</td>\n",
       "    </tr>\n",
       "    <tr>\n",
       "      <th>331829</th>\n",
       "      <td>NaN</td>\n",
       "      <td>NaN</td>\n",
       "      <td>NaN</td>\n",
       "      <td>NaN</td>\n",
       "      <td>NaN</td>\n",
       "      <td>NaN</td>\n",
       "      <td>NaN</td>\n",
       "      <td>NaN</td>\n",
       "      <td>NaN</td>\n",
       "    </tr>\n",
       "    <tr>\n",
       "      <th>331830</th>\n",
       "      <td>NaN</td>\n",
       "      <td>NaN</td>\n",
       "      <td>NaN</td>\n",
       "      <td>NaN</td>\n",
       "      <td>NaN</td>\n",
       "      <td>NaN</td>\n",
       "      <td>NaN</td>\n",
       "      <td>NaN</td>\n",
       "      <td>NaN</td>\n",
       "    </tr>\n",
       "  </tbody>\n",
       "</table>\n",
       "</div>"
      ],
      "text/plain": [
       "       PUBLICATION EXTRACT_DATE ORG_TYPE ORG_CODE ONS_CODE POSTCODE  SEX  \\\n",
       "331826         NaN          NaN      NaN      NaN      NaN      NaN  NaN   \n",
       "331827         NaN          NaN      NaN      NaN      NaN      NaN  NaN   \n",
       "331828         NaN          NaN      NaN      NaN      NaN      NaN  NaN   \n",
       "331829         NaN          NaN      NaN      NaN      NaN      NaN  NaN   \n",
       "331830         NaN          NaN      NaN      NaN      NaN      NaN  NaN   \n",
       "\n",
       "       AGE_GROUP_5  NUMBER_OF_PATIENTS  \n",
       "331826         NaN                 NaN  \n",
       "331827         NaN                 NaN  \n",
       "331828         NaN                 NaN  \n",
       "331829         NaN                 NaN  \n",
       "331830         NaN                 NaN  "
      ]
     },
     "execution_count": 7,
     "metadata": {},
     "output_type": "execute_result"
    }
   ],
   "source": [
    "# where the data did not = ALL, the va\n",
    "gp_data_all.tail()"
   ]
  },
  {
   "cell_type": "code",
   "execution_count": 8,
   "metadata": {},
   "outputs": [
    {
     "data": {
      "text/plain": [
       "331831"
      ]
     },
     "execution_count": 8,
     "metadata": {},
     "output_type": "execute_result"
    }
   ],
   "source": [
    "# to find out how many rows you have in your dataframe\n",
    "len(gp_data.index)"
   ]
  },
  {
   "cell_type": "code",
   "execution_count": 9,
   "metadata": {},
   "outputs": [
    {
     "data": {
      "text/plain": [
       "331831"
      ]
     },
     "execution_count": 9,
     "metadata": {},
     "output_type": "execute_result"
    }
   ],
   "source": [
    "len(gp_data_all.index)"
   ]
  },
  {
   "cell_type": "code",
   "execution_count": 10,
   "metadata": {},
   "outputs": [
    {
     "data": {
      "text/plain": [
       "(331831, 9)"
      ]
     },
     "execution_count": 10,
     "metadata": {},
     "output_type": "execute_result"
    }
   ],
   "source": [
    "# you can also find out how many rows/columns there are\n",
    "gp_data.shape"
   ]
  },
  {
   "cell_type": "code",
   "execution_count": 11,
   "metadata": {},
   "outputs": [
    {
     "data": {
      "text/html": [
       "<div>\n",
       "<style>\n",
       "    .dataframe thead tr:only-child th {\n",
       "        text-align: right;\n",
       "    }\n",
       "\n",
       "    .dataframe thead th {\n",
       "        text-align: left;\n",
       "    }\n",
       "\n",
       "    .dataframe tbody tr th {\n",
       "        vertical-align: top;\n",
       "    }\n",
       "</style>\n",
       "<table border=\"1\" class=\"dataframe\">\n",
       "  <thead>\n",
       "    <tr style=\"text-align: right;\">\n",
       "      <th></th>\n",
       "      <th>PUBLICATION</th>\n",
       "      <th>EXTRACT_DATE</th>\n",
       "      <th>ORG_TYPE</th>\n",
       "      <th>ORG_CODE</th>\n",
       "      <th>ONS_CODE</th>\n",
       "      <th>POSTCODE</th>\n",
       "      <th>SEX</th>\n",
       "      <th>AGE_GROUP_5</th>\n",
       "      <th>NUMBER_OF_PATIENTS</th>\n",
       "    </tr>\n",
       "  </thead>\n",
       "  <tbody>\n",
       "  </tbody>\n",
       "</table>\n",
       "</div>"
      ],
      "text/plain": [
       "Empty DataFrame\n",
       "Columns: [PUBLICATION, EXTRACT_DATE, ORG_TYPE, ORG_CODE, ONS_CODE, POSTCODE, SEX, AGE_GROUP_5, NUMBER_OF_PATIENTS]\n",
       "Index: []"
      ]
     },
     "execution_count": 11,
     "metadata": {},
     "output_type": "execute_result"
    }
   ],
   "source": [
    "gp_data.dropna()"
   ]
  },
  {
   "cell_type": "code",
   "execution_count": 12,
   "metadata": {},
   "outputs": [
    {
     "data": {
      "text/html": [
       "<div>\n",
       "<style>\n",
       "    .dataframe thead tr:only-child th {\n",
       "        text-align: right;\n",
       "    }\n",
       "\n",
       "    .dataframe thead th {\n",
       "        text-align: left;\n",
       "    }\n",
       "\n",
       "    .dataframe tbody tr th {\n",
       "        vertical-align: top;\n",
       "    }\n",
       "</style>\n",
       "<table border=\"1\" class=\"dataframe\">\n",
       "  <thead>\n",
       "    <tr style=\"text-align: right;\">\n",
       "      <th></th>\n",
       "      <th>PUBLICATION</th>\n",
       "      <th>EXTRACT_DATE</th>\n",
       "      <th>ORG_TYPE</th>\n",
       "      <th>ORG_CODE</th>\n",
       "      <th>ONS_CODE</th>\n",
       "      <th>POSTCODE</th>\n",
       "      <th>SEX</th>\n",
       "      <th>AGE_GROUP_5</th>\n",
       "      <th>NUMBER_OF_PATIENTS</th>\n",
       "    </tr>\n",
       "  </thead>\n",
       "  <tbody>\n",
       "    <tr>\n",
       "      <th>0</th>\n",
       "      <td>GP_PRAC_PAT_LIST</td>\n",
       "      <td>01-Apr-17</td>\n",
       "      <td>Comm Region</td>\n",
       "      <td>Y54</td>\n",
       "      <td>E40000001</td>\n",
       "      <td>NaN</td>\n",
       "      <td>ALL</td>\n",
       "      <td>ALL</td>\n",
       "      <td>16220286</td>\n",
       "    </tr>\n",
       "    <tr>\n",
       "      <th>1</th>\n",
       "      <td>GP_PRAC_PAT_LIST</td>\n",
       "      <td>01-Apr-17</td>\n",
       "      <td>Comm Region</td>\n",
       "      <td>Y54</td>\n",
       "      <td>E40000001</td>\n",
       "      <td>NaN</td>\n",
       "      <td>FEMALE</td>\n",
       "      <td>0_4</td>\n",
       "      <td>444609</td>\n",
       "    </tr>\n",
       "    <tr>\n",
       "      <th>2</th>\n",
       "      <td>GP_PRAC_PAT_LIST</td>\n",
       "      <td>01-Apr-17</td>\n",
       "      <td>Comm Region</td>\n",
       "      <td>Y54</td>\n",
       "      <td>E40000001</td>\n",
       "      <td>NaN</td>\n",
       "      <td>FEMALE</td>\n",
       "      <td>5_9</td>\n",
       "      <td>477023</td>\n",
       "    </tr>\n",
       "    <tr>\n",
       "      <th>3</th>\n",
       "      <td>GP_PRAC_PAT_LIST</td>\n",
       "      <td>01-Apr-17</td>\n",
       "      <td>Comm Region</td>\n",
       "      <td>Y54</td>\n",
       "      <td>E40000001</td>\n",
       "      <td>NaN</td>\n",
       "      <td>FEMALE</td>\n",
       "      <td>10_14</td>\n",
       "      <td>439112</td>\n",
       "    </tr>\n",
       "    <tr>\n",
       "      <th>4</th>\n",
       "      <td>GP_PRAC_PAT_LIST</td>\n",
       "      <td>01-Apr-17</td>\n",
       "      <td>Comm Region</td>\n",
       "      <td>Y54</td>\n",
       "      <td>E40000001</td>\n",
       "      <td>NaN</td>\n",
       "      <td>FEMALE</td>\n",
       "      <td>15_19</td>\n",
       "      <td>446453</td>\n",
       "    </tr>\n",
       "  </tbody>\n",
       "</table>\n",
       "</div>"
      ],
      "text/plain": [
       "        PUBLICATION EXTRACT_DATE     ORG_TYPE ORG_CODE   ONS_CODE POSTCODE  \\\n",
       "0  GP_PRAC_PAT_LIST    01-Apr-17  Comm Region      Y54  E40000001      NaN   \n",
       "1  GP_PRAC_PAT_LIST    01-Apr-17  Comm Region      Y54  E40000001      NaN   \n",
       "2  GP_PRAC_PAT_LIST    01-Apr-17  Comm Region      Y54  E40000001      NaN   \n",
       "3  GP_PRAC_PAT_LIST    01-Apr-17  Comm Region      Y54  E40000001      NaN   \n",
       "4  GP_PRAC_PAT_LIST    01-Apr-17  Comm Region      Y54  E40000001      NaN   \n",
       "\n",
       "      SEX AGE_GROUP_5  NUMBER_OF_PATIENTS  \n",
       "0     ALL         ALL            16220286  \n",
       "1  FEMALE         0_4              444609  \n",
       "2  FEMALE         5_9              477023  \n",
       "3  FEMALE       10_14              439112  \n",
       "4  FEMALE       15_19              446453  "
      ]
     },
     "execution_count": 12,
     "metadata": {},
     "output_type": "execute_result"
    }
   ],
   "source": [
    "# the data is still there\n",
    "gp_data.head()"
   ]
  },
  {
   "cell_type": "code",
   "execution_count": 13,
   "metadata": {
    "collapsed": true
   },
   "outputs": [],
   "source": [
    "gp_data.dropna(inplace=True)"
   ]
  },
  {
   "cell_type": "code",
   "execution_count": 14,
   "metadata": {},
   "outputs": [
    {
     "data": {
      "text/plain": [
       "(0, 9)"
      ]
     },
     "execution_count": 14,
     "metadata": {},
     "output_type": "execute_result"
    }
   ],
   "source": [
    "gp_data.shape"
   ]
  },
  {
   "cell_type": "code",
   "execution_count": 15,
   "metadata": {},
   "outputs": [
    {
     "name": "stderr",
     "output_type": "stream",
     "text": [
      "/Users/sarahdean/workspace/learning/devEnvLearning/lib/python3.6/site-packages/IPython/core/interactiveshell.py:2698: DtypeWarning: Columns (4) have mixed types. Specify dtype option on import or set low_memory=False.\n",
      "  interactivity=interactivity, compiler=compiler, result=result)\n"
     ]
    }
   ],
   "source": [
    "gp_data = pd.read_csv('gp_pat.csv')"
   ]
  },
  {
   "cell_type": "code",
   "execution_count": 16,
   "metadata": {
    "collapsed": true
   },
   "outputs": [],
   "source": [
    "# drop all the rows where SEX is not NaN ie \n",
    "gp_data_all=gp_data_all[gp_data_all['SEX'].notnull()]"
   ]
  },
  {
   "cell_type": "code",
   "execution_count": 17,
   "metadata": {},
   "outputs": [
    {
     "data": {
      "text/plain": [
       "(7717, 9)"
      ]
     },
     "execution_count": 17,
     "metadata": {},
     "output_type": "execute_result"
    }
   ],
   "source": [
    "# I have no idea why this doesn't have brackets\n",
    "gp_data_all.shape"
   ]
  },
  {
   "cell_type": "code",
   "execution_count": 18,
   "metadata": {},
   "outputs": [
    {
     "data": {
      "text/html": [
       "<div>\n",
       "<style>\n",
       "    .dataframe thead tr:only-child th {\n",
       "        text-align: right;\n",
       "    }\n",
       "\n",
       "    .dataframe thead th {\n",
       "        text-align: left;\n",
       "    }\n",
       "\n",
       "    .dataframe tbody tr th {\n",
       "        vertical-align: top;\n",
       "    }\n",
       "</style>\n",
       "<table border=\"1\" class=\"dataframe\">\n",
       "  <thead>\n",
       "    <tr style=\"text-align: right;\">\n",
       "      <th></th>\n",
       "      <th>PUBLICATION</th>\n",
       "      <th>EXTRACT_DATE</th>\n",
       "      <th>ORG_TYPE</th>\n",
       "      <th>ORG_CODE</th>\n",
       "      <th>ONS_CODE</th>\n",
       "      <th>POSTCODE</th>\n",
       "      <th>SEX</th>\n",
       "      <th>AGE_GROUP_5</th>\n",
       "      <th>NUMBER_OF_PATIENTS</th>\n",
       "    </tr>\n",
       "  </thead>\n",
       "  <tbody>\n",
       "    <tr>\n",
       "      <th>331616</th>\n",
       "      <td>GP_PRAC_PAT_LIST</td>\n",
       "      <td>01-Apr-17</td>\n",
       "      <td>GP</td>\n",
       "      <td>Y05472</td>\n",
       "      <td>NaN</td>\n",
       "      <td>NR5 9BF</td>\n",
       "      <td>ALL</td>\n",
       "      <td>ALL</td>\n",
       "      <td>164.0</td>\n",
       "    </tr>\n",
       "    <tr>\n",
       "      <th>331659</th>\n",
       "      <td>GP_PRAC_PAT_LIST</td>\n",
       "      <td>01-Apr-17</td>\n",
       "      <td>GP</td>\n",
       "      <td>Y05548</td>\n",
       "      <td>NaN</td>\n",
       "      <td>BD8 8RA</td>\n",
       "      <td>ALL</td>\n",
       "      <td>ALL</td>\n",
       "      <td>1681.0</td>\n",
       "    </tr>\n",
       "    <tr>\n",
       "      <th>331702</th>\n",
       "      <td>GP_PRAC_PAT_LIST</td>\n",
       "      <td>01-Apr-17</td>\n",
       "      <td>GP</td>\n",
       "      <td>Y05569</td>\n",
       "      <td>NaN</td>\n",
       "      <td>SY13 1NT</td>\n",
       "      <td>ALL</td>\n",
       "      <td>ALL</td>\n",
       "      <td>3482.0</td>\n",
       "    </tr>\n",
       "    <tr>\n",
       "      <th>331745</th>\n",
       "      <td>GP_PRAC_PAT_LIST</td>\n",
       "      <td>01-Apr-17</td>\n",
       "      <td>GP</td>\n",
       "      <td>Y05622</td>\n",
       "      <td>NaN</td>\n",
       "      <td>NG5 5GU</td>\n",
       "      <td>ALL</td>\n",
       "      <td>ALL</td>\n",
       "      <td>2611.0</td>\n",
       "    </tr>\n",
       "    <tr>\n",
       "      <th>331788</th>\n",
       "      <td>GP_PRAC_PAT_LIST</td>\n",
       "      <td>01-Apr-17</td>\n",
       "      <td>GP</td>\n",
       "      <td>Y05690</td>\n",
       "      <td>NaN</td>\n",
       "      <td>NG17 7AE</td>\n",
       "      <td>ALL</td>\n",
       "      <td>ALL</td>\n",
       "      <td>5692.0</td>\n",
       "    </tr>\n",
       "  </tbody>\n",
       "</table>\n",
       "</div>"
      ],
      "text/plain": [
       "             PUBLICATION EXTRACT_DATE ORG_TYPE ORG_CODE ONS_CODE  POSTCODE  \\\n",
       "331616  GP_PRAC_PAT_LIST    01-Apr-17       GP   Y05472      NaN   NR5 9BF   \n",
       "331659  GP_PRAC_PAT_LIST    01-Apr-17       GP   Y05548      NaN   BD8 8RA   \n",
       "331702  GP_PRAC_PAT_LIST    01-Apr-17       GP   Y05569      NaN  SY13 1NT   \n",
       "331745  GP_PRAC_PAT_LIST    01-Apr-17       GP   Y05622      NaN   NG5 5GU   \n",
       "331788  GP_PRAC_PAT_LIST    01-Apr-17       GP   Y05690      NaN  NG17 7AE   \n",
       "\n",
       "        SEX AGE_GROUP_5  NUMBER_OF_PATIENTS  \n",
       "331616  ALL         ALL               164.0  \n",
       "331659  ALL         ALL              1681.0  \n",
       "331702  ALL         ALL              3482.0  \n",
       "331745  ALL         ALL              2611.0  \n",
       "331788  ALL         ALL              5692.0  "
      ]
     },
     "execution_count": 18,
     "metadata": {},
     "output_type": "execute_result"
    }
   ],
   "source": [
    "gp_data_all.tail()"
   ]
  },
  {
   "cell_type": "code",
   "execution_count": 19,
   "metadata": {
    "collapsed": true
   },
   "outputs": [],
   "source": [
    "# concatenate the two data sets by appending one to the other. We can do this really easily because they both\n",
    "# contain the same columns\n",
    "gp_data=gp_data.append(gp_data_all)"
   ]
  },
  {
   "cell_type": "code",
   "execution_count": 20,
   "metadata": {},
   "outputs": [
    {
     "data": {
      "text/plain": [
       "(339548, 9)"
      ]
     },
     "execution_count": 20,
     "metadata": {},
     "output_type": "execute_result"
    }
   ],
   "source": [
    "gp_data.shape"
   ]
  },
  {
   "cell_type": "code",
   "execution_count": 21,
   "metadata": {
    "collapsed": true,
    "scrolled": true
   },
   "outputs": [],
   "source": [
    "# do it first without the inplace='TRUE'\n",
    "#gp_data.drop_duplicates()\n",
    "gp_data.drop_duplicates(inplace=True)"
   ]
  },
  {
   "cell_type": "code",
   "execution_count": 22,
   "metadata": {},
   "outputs": [
    {
     "data": {
      "text/plain": [
       "(331831, 9)"
      ]
     },
     "execution_count": 22,
     "metadata": {},
     "output_type": "execute_result"
    }
   ],
   "source": [
    "gp_data.shape"
   ]
  },
  {
   "cell_type": "code",
   "execution_count": 23,
   "metadata": {
    "collapsed": true
   },
   "outputs": [],
   "source": [
    "# again, could fill the values of specific columns using ['col_name]\n",
    "gp_data.fillna(value='xxx', inplace=True)"
   ]
  },
  {
   "cell_type": "code",
   "execution_count": 24,
   "metadata": {},
   "outputs": [
    {
     "data": {
      "text/html": [
       "<div>\n",
       "<style>\n",
       "    .dataframe thead tr:only-child th {\n",
       "        text-align: right;\n",
       "    }\n",
       "\n",
       "    .dataframe thead th {\n",
       "        text-align: left;\n",
       "    }\n",
       "\n",
       "    .dataframe tbody tr th {\n",
       "        vertical-align: top;\n",
       "    }\n",
       "</style>\n",
       "<table border=\"1\" class=\"dataframe\">\n",
       "  <thead>\n",
       "    <tr style=\"text-align: right;\">\n",
       "      <th></th>\n",
       "      <th>PUBLICATION</th>\n",
       "      <th>EXTRACT_DATE</th>\n",
       "      <th>ORG_TYPE</th>\n",
       "      <th>ORG_CODE</th>\n",
       "      <th>ONS_CODE</th>\n",
       "      <th>POSTCODE</th>\n",
       "      <th>SEX</th>\n",
       "      <th>AGE_GROUP_5</th>\n",
       "      <th>NUMBER_OF_PATIENTS</th>\n",
       "    </tr>\n",
       "  </thead>\n",
       "  <tbody>\n",
       "    <tr>\n",
       "      <th>0</th>\n",
       "      <td>GP_PRAC_PAT_LIST</td>\n",
       "      <td>01-Apr-17</td>\n",
       "      <td>Comm Region</td>\n",
       "      <td>Y54</td>\n",
       "      <td>E40000001</td>\n",
       "      <td>xxx</td>\n",
       "      <td>ALL</td>\n",
       "      <td>ALL</td>\n",
       "      <td>16220286.0</td>\n",
       "    </tr>\n",
       "    <tr>\n",
       "      <th>1</th>\n",
       "      <td>GP_PRAC_PAT_LIST</td>\n",
       "      <td>01-Apr-17</td>\n",
       "      <td>Comm Region</td>\n",
       "      <td>Y54</td>\n",
       "      <td>E40000001</td>\n",
       "      <td>xxx</td>\n",
       "      <td>FEMALE</td>\n",
       "      <td>0_4</td>\n",
       "      <td>444609.0</td>\n",
       "    </tr>\n",
       "    <tr>\n",
       "      <th>2</th>\n",
       "      <td>GP_PRAC_PAT_LIST</td>\n",
       "      <td>01-Apr-17</td>\n",
       "      <td>Comm Region</td>\n",
       "      <td>Y54</td>\n",
       "      <td>E40000001</td>\n",
       "      <td>xxx</td>\n",
       "      <td>FEMALE</td>\n",
       "      <td>5_9</td>\n",
       "      <td>477023.0</td>\n",
       "    </tr>\n",
       "    <tr>\n",
       "      <th>3</th>\n",
       "      <td>GP_PRAC_PAT_LIST</td>\n",
       "      <td>01-Apr-17</td>\n",
       "      <td>Comm Region</td>\n",
       "      <td>Y54</td>\n",
       "      <td>E40000001</td>\n",
       "      <td>xxx</td>\n",
       "      <td>FEMALE</td>\n",
       "      <td>10_14</td>\n",
       "      <td>439112.0</td>\n",
       "    </tr>\n",
       "    <tr>\n",
       "      <th>4</th>\n",
       "      <td>GP_PRAC_PAT_LIST</td>\n",
       "      <td>01-Apr-17</td>\n",
       "      <td>Comm Region</td>\n",
       "      <td>Y54</td>\n",
       "      <td>E40000001</td>\n",
       "      <td>xxx</td>\n",
       "      <td>FEMALE</td>\n",
       "      <td>15_19</td>\n",
       "      <td>446453.0</td>\n",
       "    </tr>\n",
       "  </tbody>\n",
       "</table>\n",
       "</div>"
      ],
      "text/plain": [
       "        PUBLICATION EXTRACT_DATE     ORG_TYPE ORG_CODE   ONS_CODE POSTCODE  \\\n",
       "0  GP_PRAC_PAT_LIST    01-Apr-17  Comm Region      Y54  E40000001      xxx   \n",
       "1  GP_PRAC_PAT_LIST    01-Apr-17  Comm Region      Y54  E40000001      xxx   \n",
       "2  GP_PRAC_PAT_LIST    01-Apr-17  Comm Region      Y54  E40000001      xxx   \n",
       "3  GP_PRAC_PAT_LIST    01-Apr-17  Comm Region      Y54  E40000001      xxx   \n",
       "4  GP_PRAC_PAT_LIST    01-Apr-17  Comm Region      Y54  E40000001      xxx   \n",
       "\n",
       "      SEX AGE_GROUP_5  NUMBER_OF_PATIENTS  \n",
       "0     ALL         ALL          16220286.0  \n",
       "1  FEMALE         0_4            444609.0  \n",
       "2  FEMALE         5_9            477023.0  \n",
       "3  FEMALE       10_14            439112.0  \n",
       "4  FEMALE       15_19            446453.0  "
      ]
     },
     "execution_count": 24,
     "metadata": {},
     "output_type": "execute_result"
    }
   ],
   "source": [
    "gp_data.head()"
   ]
  },
  {
   "cell_type": "code",
   "execution_count": 25,
   "metadata": {
    "collapsed": true
   },
   "outputs": [],
   "source": [
    "# change the data type of the number of patients, because if they had floats of patients, \n",
    "# they would presumably be pathologists\n",
    "gp_data[['NUMBER_OF_PATIENTS']]=gp_data[['NUMBER_OF_PATIENTS']].astype(int)"
   ]
  },
  {
   "cell_type": "code",
   "execution_count": 26,
   "metadata": {},
   "outputs": [
    {
     "data": {
      "text/html": [
       "<div>\n",
       "<style>\n",
       "    .dataframe thead tr:only-child th {\n",
       "        text-align: right;\n",
       "    }\n",
       "\n",
       "    .dataframe thead th {\n",
       "        text-align: left;\n",
       "    }\n",
       "\n",
       "    .dataframe tbody tr th {\n",
       "        vertical-align: top;\n",
       "    }\n",
       "</style>\n",
       "<table border=\"1\" class=\"dataframe\">\n",
       "  <thead>\n",
       "    <tr style=\"text-align: right;\">\n",
       "      <th></th>\n",
       "      <th>PUBLICATION</th>\n",
       "      <th>EXTRACT_DATE</th>\n",
       "      <th>ORG_TYPE</th>\n",
       "      <th>ORG_CODE</th>\n",
       "      <th>ONS_CODE</th>\n",
       "      <th>POSTCODE</th>\n",
       "      <th>SEX</th>\n",
       "      <th>AGE_GROUP_5</th>\n",
       "      <th>NUMBER_OF_PATIENTS</th>\n",
       "    </tr>\n",
       "  </thead>\n",
       "  <tbody>\n",
       "    <tr>\n",
       "      <th>0</th>\n",
       "      <td>GP_PRAC_PAT_LIST</td>\n",
       "      <td>01-Apr-17</td>\n",
       "      <td>Comm Region</td>\n",
       "      <td>Y54</td>\n",
       "      <td>E40000001</td>\n",
       "      <td>xxx</td>\n",
       "      <td>ALL</td>\n",
       "      <td>ALL</td>\n",
       "      <td>16220286</td>\n",
       "    </tr>\n",
       "    <tr>\n",
       "      <th>1</th>\n",
       "      <td>GP_PRAC_PAT_LIST</td>\n",
       "      <td>01-Apr-17</td>\n",
       "      <td>Comm Region</td>\n",
       "      <td>Y54</td>\n",
       "      <td>E40000001</td>\n",
       "      <td>xxx</td>\n",
       "      <td>FEMALE</td>\n",
       "      <td>0_4</td>\n",
       "      <td>444609</td>\n",
       "    </tr>\n",
       "    <tr>\n",
       "      <th>2</th>\n",
       "      <td>GP_PRAC_PAT_LIST</td>\n",
       "      <td>01-Apr-17</td>\n",
       "      <td>Comm Region</td>\n",
       "      <td>Y54</td>\n",
       "      <td>E40000001</td>\n",
       "      <td>xxx</td>\n",
       "      <td>FEMALE</td>\n",
       "      <td>5_9</td>\n",
       "      <td>477023</td>\n",
       "    </tr>\n",
       "    <tr>\n",
       "      <th>3</th>\n",
       "      <td>GP_PRAC_PAT_LIST</td>\n",
       "      <td>01-Apr-17</td>\n",
       "      <td>Comm Region</td>\n",
       "      <td>Y54</td>\n",
       "      <td>E40000001</td>\n",
       "      <td>xxx</td>\n",
       "      <td>FEMALE</td>\n",
       "      <td>10_14</td>\n",
       "      <td>439112</td>\n",
       "    </tr>\n",
       "    <tr>\n",
       "      <th>4</th>\n",
       "      <td>GP_PRAC_PAT_LIST</td>\n",
       "      <td>01-Apr-17</td>\n",
       "      <td>Comm Region</td>\n",
       "      <td>Y54</td>\n",
       "      <td>E40000001</td>\n",
       "      <td>xxx</td>\n",
       "      <td>FEMALE</td>\n",
       "      <td>15_19</td>\n",
       "      <td>446453</td>\n",
       "    </tr>\n",
       "  </tbody>\n",
       "</table>\n",
       "</div>"
      ],
      "text/plain": [
       "        PUBLICATION EXTRACT_DATE     ORG_TYPE ORG_CODE   ONS_CODE POSTCODE  \\\n",
       "0  GP_PRAC_PAT_LIST    01-Apr-17  Comm Region      Y54  E40000001      xxx   \n",
       "1  GP_PRAC_PAT_LIST    01-Apr-17  Comm Region      Y54  E40000001      xxx   \n",
       "2  GP_PRAC_PAT_LIST    01-Apr-17  Comm Region      Y54  E40000001      xxx   \n",
       "3  GP_PRAC_PAT_LIST    01-Apr-17  Comm Region      Y54  E40000001      xxx   \n",
       "4  GP_PRAC_PAT_LIST    01-Apr-17  Comm Region      Y54  E40000001      xxx   \n",
       "\n",
       "      SEX AGE_GROUP_5  NUMBER_OF_PATIENTS  \n",
       "0     ALL         ALL            16220286  \n",
       "1  FEMALE         0_4              444609  \n",
       "2  FEMALE         5_9              477023  \n",
       "3  FEMALE       10_14              439112  \n",
       "4  FEMALE       15_19              446453  "
      ]
     },
     "execution_count": 26,
     "metadata": {},
     "output_type": "execute_result"
    }
   ],
   "source": [
    "gp_data.head()"
   ]
  },
  {
   "cell_type": "code",
   "execution_count": 27,
   "metadata": {
    "collapsed": true
   },
   "outputs": [],
   "source": [
    "gp_dataGroup = gp_data[[\"PUBLICATION\", \"EXTRACT_DATE\", \"SEX\", \"AGE_GROUP_5\", \"NUMBER_OF_PATIENTS\"]]"
   ]
  },
  {
   "cell_type": "code",
   "execution_count": 28,
   "metadata": {
    "scrolled": true
   },
   "outputs": [
    {
     "data": {
      "text/html": [
       "<div>\n",
       "<style>\n",
       "    .dataframe thead tr:only-child th {\n",
       "        text-align: right;\n",
       "    }\n",
       "\n",
       "    .dataframe thead th {\n",
       "        text-align: left;\n",
       "    }\n",
       "\n",
       "    .dataframe tbody tr th {\n",
       "        vertical-align: top;\n",
       "    }\n",
       "</style>\n",
       "<table border=\"1\" class=\"dataframe\">\n",
       "  <thead>\n",
       "    <tr style=\"text-align: right;\">\n",
       "      <th></th>\n",
       "      <th>AGE_GROUP_5</th>\n",
       "      <th>NUMBER_OF_PATIENTS</th>\n",
       "    </tr>\n",
       "  </thead>\n",
       "  <tbody>\n",
       "    <tr>\n",
       "      <th>0</th>\n",
       "      <td>0_4</td>\n",
       "      <td>13341244</td>\n",
       "    </tr>\n",
       "    <tr>\n",
       "      <th>1</th>\n",
       "      <td>10_14</td>\n",
       "      <td>12946864</td>\n",
       "    </tr>\n",
       "    <tr>\n",
       "      <th>2</th>\n",
       "      <td>15_19</td>\n",
       "      <td>12895740</td>\n",
       "    </tr>\n",
       "    <tr>\n",
       "      <th>3</th>\n",
       "      <td>20_24</td>\n",
       "      <td>14948508</td>\n",
       "    </tr>\n",
       "    <tr>\n",
       "      <th>4</th>\n",
       "      <td>25_29</td>\n",
       "      <td>16832688</td>\n",
       "    </tr>\n",
       "    <tr>\n",
       "      <th>5</th>\n",
       "      <td>30_34</td>\n",
       "      <td>16899820</td>\n",
       "    </tr>\n",
       "    <tr>\n",
       "      <th>6</th>\n",
       "      <td>35_39</td>\n",
       "      <td>16141500</td>\n",
       "    </tr>\n",
       "    <tr>\n",
       "      <th>7</th>\n",
       "      <td>40_44</td>\n",
       "      <td>15123276</td>\n",
       "    </tr>\n",
       "    <tr>\n",
       "      <th>8</th>\n",
       "      <td>45_49</td>\n",
       "      <td>16536448</td>\n",
       "    </tr>\n",
       "    <tr>\n",
       "      <th>9</th>\n",
       "      <td>50_54</td>\n",
       "      <td>16469336</td>\n",
       "    </tr>\n",
       "    <tr>\n",
       "      <th>10</th>\n",
       "      <td>55_59</td>\n",
       "      <td>14448356</td>\n",
       "    </tr>\n",
       "    <tr>\n",
       "      <th>11</th>\n",
       "      <td>5_9</td>\n",
       "      <td>14186340</td>\n",
       "    </tr>\n",
       "    <tr>\n",
       "      <th>12</th>\n",
       "      <td>60_64</td>\n",
       "      <td>12222984</td>\n",
       "    </tr>\n",
       "    <tr>\n",
       "      <th>13</th>\n",
       "      <td>65_69</td>\n",
       "      <td>11882680</td>\n",
       "    </tr>\n",
       "    <tr>\n",
       "      <th>14</th>\n",
       "      <td>70_74</td>\n",
       "      <td>10315772</td>\n",
       "    </tr>\n",
       "    <tr>\n",
       "      <th>15</th>\n",
       "      <td>75_79</td>\n",
       "      <td>7301032</td>\n",
       "    </tr>\n",
       "    <tr>\n",
       "      <th>16</th>\n",
       "      <td>80_84</td>\n",
       "      <td>5474820</td>\n",
       "    </tr>\n",
       "    <tr>\n",
       "      <th>17</th>\n",
       "      <td>85_89</td>\n",
       "      <td>3411072</td>\n",
       "    </tr>\n",
       "    <tr>\n",
       "      <th>18</th>\n",
       "      <td>90_94</td>\n",
       "      <td>1484684</td>\n",
       "    </tr>\n",
       "    <tr>\n",
       "      <th>19</th>\n",
       "      <td>95+</td>\n",
       "      <td>451032</td>\n",
       "    </tr>\n",
       "    <tr>\n",
       "      <th>20</th>\n",
       "      <td>ALL</td>\n",
       "      <td>466628392</td>\n",
       "    </tr>\n",
       "  </tbody>\n",
       "</table>\n",
       "</div>"
      ],
      "text/plain": [
       "   AGE_GROUP_5  NUMBER_OF_PATIENTS\n",
       "0          0_4            13341244\n",
       "1        10_14            12946864\n",
       "2        15_19            12895740\n",
       "3        20_24            14948508\n",
       "4        25_29            16832688\n",
       "5        30_34            16899820\n",
       "6        35_39            16141500\n",
       "7        40_44            15123276\n",
       "8        45_49            16536448\n",
       "9        50_54            16469336\n",
       "10       55_59            14448356\n",
       "11         5_9            14186340\n",
       "12       60_64            12222984\n",
       "13       65_69            11882680\n",
       "14       70_74            10315772\n",
       "15       75_79             7301032\n",
       "16       80_84             5474820\n",
       "17       85_89             3411072\n",
       "18       90_94             1484684\n",
       "19         95+              451032\n",
       "20         ALL           466628392"
      ]
     },
     "execution_count": 28,
     "metadata": {},
     "output_type": "execute_result"
    }
   ],
   "source": [
    "gp_dataGroup = gp_dataGroup.groupby([\"AGE_GROUP_5\"]).sum()\n",
    "gp_dataGroup = gp_dataGroup.reset_index()\n",
    "gp_dataGroup"
   ]
  },
  {
   "cell_type": "code",
   "execution_count": 29,
   "metadata": {
    "collapsed": true,
    "scrolled": false
   },
   "outputs": [],
   "source": [
    "gp_dataGroup = gp_dataGroup[gp_dataGroup[\"AGE_GROUP_5\"] != 'ALL']"
   ]
  },
  {
   "cell_type": "code",
   "execution_count": 30,
   "metadata": {},
   "outputs": [
    {
     "name": "stderr",
     "output_type": "stream",
     "text": [
      "/Users/sarahdean/workspace/learning/devEnvLearning/lib/python3.6/site-packages/ipykernel_launcher.py:1: SettingWithCopyWarning: \n",
      "A value is trying to be set on a copy of a slice from a DataFrame.\n",
      "Try using .loc[row_indexer,col_indexer] = value instead\n",
      "\n",
      "See the caveats in the documentation: http://pandas.pydata.org/pandas-docs/stable/indexing.html#indexing-view-versus-copy\n",
      "  \"\"\"Entry point for launching an IPython kernel.\n"
     ]
    }
   ],
   "source": [
    "gp_dataGroup[\"percent\"] = gp_dataGroup.NUMBER_OF_PATIENTS / gp_dataGroup.NUMBER_OF_PATIENTS.sum() * 100 "
   ]
  },
  {
   "cell_type": "code",
   "execution_count": 31,
   "metadata": {},
   "outputs": [
    {
     "data": {
      "text/html": [
       "<div>\n",
       "<style>\n",
       "    .dataframe thead tr:only-child th {\n",
       "        text-align: right;\n",
       "    }\n",
       "\n",
       "    .dataframe thead th {\n",
       "        text-align: left;\n",
       "    }\n",
       "\n",
       "    .dataframe tbody tr th {\n",
       "        vertical-align: top;\n",
       "    }\n",
       "</style>\n",
       "<table border=\"1\" class=\"dataframe\">\n",
       "  <thead>\n",
       "    <tr style=\"text-align: right;\">\n",
       "      <th></th>\n",
       "      <th>AGE_GROUP_5</th>\n",
       "      <th>NUMBER_OF_PATIENTS</th>\n",
       "      <th>percent</th>\n",
       "    </tr>\n",
       "  </thead>\n",
       "  <tbody>\n",
       "    <tr>\n",
       "      <th>0</th>\n",
       "      <td>0_4</td>\n",
       "      <td>13341244</td>\n",
       "      <td>5.72</td>\n",
       "    </tr>\n",
       "    <tr>\n",
       "      <th>1</th>\n",
       "      <td>10_14</td>\n",
       "      <td>12946864</td>\n",
       "      <td>5.55</td>\n",
       "    </tr>\n",
       "    <tr>\n",
       "      <th>2</th>\n",
       "      <td>15_19</td>\n",
       "      <td>12895740</td>\n",
       "      <td>5.53</td>\n",
       "    </tr>\n",
       "    <tr>\n",
       "      <th>3</th>\n",
       "      <td>20_24</td>\n",
       "      <td>14948508</td>\n",
       "      <td>6.41</td>\n",
       "    </tr>\n",
       "    <tr>\n",
       "      <th>4</th>\n",
       "      <td>25_29</td>\n",
       "      <td>16832688</td>\n",
       "      <td>7.21</td>\n",
       "    </tr>\n",
       "    <tr>\n",
       "      <th>5</th>\n",
       "      <td>30_34</td>\n",
       "      <td>16899820</td>\n",
       "      <td>7.24</td>\n",
       "    </tr>\n",
       "    <tr>\n",
       "      <th>6</th>\n",
       "      <td>35_39</td>\n",
       "      <td>16141500</td>\n",
       "      <td>6.92</td>\n",
       "    </tr>\n",
       "    <tr>\n",
       "      <th>7</th>\n",
       "      <td>40_44</td>\n",
       "      <td>15123276</td>\n",
       "      <td>6.48</td>\n",
       "    </tr>\n",
       "    <tr>\n",
       "      <th>8</th>\n",
       "      <td>45_49</td>\n",
       "      <td>16536448</td>\n",
       "      <td>7.09</td>\n",
       "    </tr>\n",
       "    <tr>\n",
       "      <th>9</th>\n",
       "      <td>50_54</td>\n",
       "      <td>16469336</td>\n",
       "      <td>7.06</td>\n",
       "    </tr>\n",
       "    <tr>\n",
       "      <th>10</th>\n",
       "      <td>55_59</td>\n",
       "      <td>14448356</td>\n",
       "      <td>6.19</td>\n",
       "    </tr>\n",
       "    <tr>\n",
       "      <th>11</th>\n",
       "      <td>5_9</td>\n",
       "      <td>14186340</td>\n",
       "      <td>6.08</td>\n",
       "    </tr>\n",
       "    <tr>\n",
       "      <th>12</th>\n",
       "      <td>60_64</td>\n",
       "      <td>12222984</td>\n",
       "      <td>5.24</td>\n",
       "    </tr>\n",
       "    <tr>\n",
       "      <th>13</th>\n",
       "      <td>65_69</td>\n",
       "      <td>11882680</td>\n",
       "      <td>5.09</td>\n",
       "    </tr>\n",
       "    <tr>\n",
       "      <th>14</th>\n",
       "      <td>70_74</td>\n",
       "      <td>10315772</td>\n",
       "      <td>4.42</td>\n",
       "    </tr>\n",
       "    <tr>\n",
       "      <th>15</th>\n",
       "      <td>75_79</td>\n",
       "      <td>7301032</td>\n",
       "      <td>3.13</td>\n",
       "    </tr>\n",
       "    <tr>\n",
       "      <th>16</th>\n",
       "      <td>80_84</td>\n",
       "      <td>5474820</td>\n",
       "      <td>2.35</td>\n",
       "    </tr>\n",
       "    <tr>\n",
       "      <th>17</th>\n",
       "      <td>85_89</td>\n",
       "      <td>3411072</td>\n",
       "      <td>1.46</td>\n",
       "    </tr>\n",
       "    <tr>\n",
       "      <th>18</th>\n",
       "      <td>90_94</td>\n",
       "      <td>1484684</td>\n",
       "      <td>0.64</td>\n",
       "    </tr>\n",
       "    <tr>\n",
       "      <th>19</th>\n",
       "      <td>95+</td>\n",
       "      <td>451032</td>\n",
       "      <td>0.19</td>\n",
       "    </tr>\n",
       "  </tbody>\n",
       "</table>\n",
       "</div>"
      ],
      "text/plain": [
       "   AGE_GROUP_5  NUMBER_OF_PATIENTS  percent\n",
       "0          0_4            13341244     5.72\n",
       "1        10_14            12946864     5.55\n",
       "2        15_19            12895740     5.53\n",
       "3        20_24            14948508     6.41\n",
       "4        25_29            16832688     7.21\n",
       "5        30_34            16899820     7.24\n",
       "6        35_39            16141500     6.92\n",
       "7        40_44            15123276     6.48\n",
       "8        45_49            16536448     7.09\n",
       "9        50_54            16469336     7.06\n",
       "10       55_59            14448356     6.19\n",
       "11         5_9            14186340     6.08\n",
       "12       60_64            12222984     5.24\n",
       "13       65_69            11882680     5.09\n",
       "14       70_74            10315772     4.42\n",
       "15       75_79             7301032     3.13\n",
       "16       80_84             5474820     2.35\n",
       "17       85_89             3411072     1.46\n",
       "18       90_94             1484684     0.64\n",
       "19         95+              451032     0.19"
      ]
     },
     "execution_count": 31,
     "metadata": {},
     "output_type": "execute_result"
    }
   ],
   "source": [
    "gp_dataGroup.round(decimals=2)"
   ]
  },
  {
   "cell_type": "code",
   "execution_count": null,
   "metadata": {
    "collapsed": true
   },
   "outputs": [],
   "source": []
  }
 ],
 "metadata": {
  "kernelspec": {
   "display_name": "Python 3",
   "language": "python",
   "name": "python3"
  },
  "language_info": {
   "codemirror_mode": {
    "name": "ipython",
    "version": 3
   },
   "file_extension": ".py",
   "mimetype": "text/x-python",
   "name": "python",
   "nbconvert_exporter": "python",
   "pygments_lexer": "ipython3",
   "version": "3.5.2"
  }
 },
 "nbformat": 4,
 "nbformat_minor": 2
}
