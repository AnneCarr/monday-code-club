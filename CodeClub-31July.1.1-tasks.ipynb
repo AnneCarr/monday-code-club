{
 "cells": [
  {
   "cell_type": "code",
   "execution_count": 1,
   "metadata": {
    "collapsed": true
   },
   "outputs": [],
   "source": [
    "import pandas as pd \n",
    "import matplotlib.pyplot\n",
    "matplotlib.style.use('ggplot')\n",
    "import matplotlib.pyplot as plt "
   ]
  },
  {
   "cell_type": "markdown",
   "metadata": {
    "collapsed": true
   },
   "source": [
    "# This week\n",
    "\n",
    "**Two new datasets**\n",
    "- gdpPerCapita1.csv: https://drive.google.com/open?id=0BxAMHhHjQFUgT1B2M3g3OEtqVVU \n",
    "- lifeExpectancy1.csv: https://drive.google.com/open?id=0BxAMHhHjQFUgTUtYbzhwWGJWN1k"
   ]
  },
  {
   "cell_type": "markdown",
   "metadata": {},
   "source": [
    "**This week you'll need a new notebook, you'll need to import Pandas, and MatplotLib**"
   ]
  },
  {
   "cell_type": "markdown",
   "metadata": {},
   "source": [
    "### Merging datasets\n",
    "\n",
    "1. Open both dataframes, find out the size of each of them and display the first 10 rows\n",
    "2. We want to merge these dataframes - how would you merge them? Are there any issues?\n",
    "3. Set the country code column to uppercase and add it back into the dataframe\n",
    "4. Merge your data and assign it to a new variable - think about the type of join you need, and set suffixes on common columns\n",
    "5. Show a random sample of 10 rows from your new dataframe\n",
    "6. Compare the size of your new dataframe to your original dataframes\n",
    "7. Without assigning new variables, perform some other types of join and compare the sizes\n",
    "8. Get a list of columns from your merged dataset"
   ]
  },
  {
   "cell_type": "markdown",
   "metadata": {},
   "source": [
    "### Plotting GDP and Life Expectancy\n",
    "1. Plot a scatter of 2015 GDP and Life Expectancy, change the size of this scatter\n",
    "2. Get overview statistics of two columns in your dataframe - 2015 GDP and 2015 Life Expectancy\n",
    "3. Plot a scatter of the 50 countries with the lowest life expectancy\n",
    "4. Plot a scatter of the 50 countries with the highest life expectancy"
   ]
  },
  {
   "cell_type": "markdown",
   "metadata": {},
   "source": [
    "### Plotting Life Expectancy over time\n",
    "1. Create a copy of your original Life Expectancy dataframe\n",
    "2. Select the country name column and all the years\n",
    "3. Set the index as Country Name\n",
    "4. Select the 5 countries with the highest life expectancy\n",
    "5. Transpose the data\n",
    "6. Plot the dataframe as a line chart"
   ]
  },
  {
   "cell_type": "markdown",
   "metadata": {},
   "source": [
    "### Create an average Life Expectancy column\n",
    "1. Create a copy of your original Life Expectancy dataframe\n",
    "2. As above, set the index and transpose\n",
    "3. Create a new column for your average\n",
    "4. Plot it"
   ]
  },
  {
   "cell_type": "markdown",
   "metadata": {},
   "source": [
    "### Next time\n",
    "- we'll look at how to pivot using Pandas - does anyone have some data they've pivoted in Excel that we could use?\n",
    "- task for the week - use the continents dataset to add region and sub-region to your dataframe. Data: https://drive.google.com/open?id=0BxAMHhHjQFUgNm0wVy02cVZvOG8\n",
    "- you'll need to think about which columns you want to include and the type of merge you need to do\n",
    "- if you have time, you could also look at grouping the data by these regions - focussing on either GDP or Life Expectancy\n",
    "\n",
    "We'll review it together next week"
   ]
  },
  {
   "cell_type": "code",
   "execution_count": null,
   "metadata": {
    "collapsed": true
   },
   "outputs": [],
   "source": []
  }
 ],
 "metadata": {
  "kernelspec": {
   "display_name": "Python 3",
   "language": "python",
   "name": "python3"
  },
  "language_info": {
   "codemirror_mode": {
    "name": "ipython",
    "version": 3
   },
   "file_extension": ".py",
   "mimetype": "text/x-python",
   "name": "python",
   "nbconvert_exporter": "python",
   "pygments_lexer": "ipython3",
   "version": "3.6.1"
  }
 },
 "nbformat": 4,
 "nbformat_minor": 2
}
