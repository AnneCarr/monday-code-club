{
 "cells": [
  {
   "cell_type": "code",
   "execution_count": null,
   "metadata": {
    "collapsed": true
   },
   "outputs": [],
   "source": [
    "from twython import Twython\n",
    "from twython import TwythonError\n",
    "import json\n",
    "import hidden\n",
    "#using TwythonError to get a more helpful error message"
   ]
  },
  {
   "cell_type": "markdown",
   "metadata": {},
   "source": [
    "# Make a hidden.py file\n",
    "This will contain your api key and secret and access key and token, in json format. Make sure you sae it in the same folder you are working with. \n",
    "def oauth(): \n",
    "return{ \"consumer_key\":\"KgI........nVk\", \"consumer_secret\" : \"qTvCXOwp......XL2H8Ss5Ua\", \"token_key\" : \"1............Z6b2U\", \"token_secret\" : \"yb9F....xwJtPD1H\" }"
   ]
  },
  {
   "cell_type": "code",
   "execution_count": null,
   "metadata": {
    "collapsed": true
   },
   "outputs": [],
   "source": [
    "# retrieve the keys and secrets\n",
    "secrets=hidden.oauth()\n",
    "APP_KEY=secrets['consumer_key']\n",
    "APP_SECRET=secrets['consumer_secret']\n",
    "OAUTH_TOKEN=secrets['token_key']\n",
    "OAUTH_TOKEN_SECRET=secrets['token_secret']"
   ]
  },
  {
   "cell_type": "code",
   "execution_count": null,
   "metadata": {},
   "outputs": [],
   "source": [
    "twitter = Twython(APP_KEY, APP_SECRET, OAUTH_TOKEN, OAUTH_TOKEN_SECRET)\n",
    "print(twitter)\n",
    "try:\n",
    "    user_timeline = twitter.get_user_timeline(screen_name='gdsteam')\n",
    "except TwythonError as e:\n",
    "    print(e)"
   ]
  },
  {
   "cell_type": "code",
   "execution_count": null,
   "metadata": {},
   "outputs": [],
   "source": [
    "print(user_timeline)"
   ]
  },
  {
   "cell_type": "code",
   "execution_count": null,
   "metadata": {},
   "outputs": [],
   "source": [
    "twitter.get_application_rate_limit_status()['resources']['search']"
   ]
  },
  {
   "cell_type": "code",
   "execution_count": null,
   "metadata": {},
   "outputs": [],
   "source": [
    "twitter.get_home_timeline()"
   ]
  },
  {
   "cell_type": "code",
   "execution_count": null,
   "metadata": {},
   "outputs": [],
   "source": [
    "results = twitter.cursor(twitter.search, q='govuk')\n",
    "for result in results:\n",
    "#     print(result['id_str'])\n",
    "    print(result)"
   ]
  },
  {
   "cell_type": "code",
   "execution_count": null,
   "metadata": {
    "collapsed": true
   },
   "outputs": [],
   "source": [
    "# using the documentation at https://twython.readthedocs.io/en/latest/api.html to try a few things out \n",
    "# Tiwtter have (very) recently changed their developer documentation urls so the links through to them\n",
    "# from Twython no longer work - however, they are still available eg\n",
    "# https://developer.twitter.com/en/docs/accounts-and-users/follow-search-get-users/api-reference/get-friends-list"
   ]
  },
  {
   "cell_type": "code",
   "execution_count": null,
   "metadata": {},
   "outputs": [],
   "source": [
    "twitter.get_friends_list(screen_name='grumpygrandma', count=2)"
   ]
  },
  {
   "cell_type": "code",
   "execution_count": null,
   "metadata": {},
   "outputs": [],
   "source": [
    "friendList=twitter.get_friends_list(screen_name='grumpygrandma', count=2)\n",
    "\n",
    "print(type(friendList))"
   ]
  },
  {
   "cell_type": "code",
   "execution_count": null,
   "metadata": {},
   "outputs": [],
   "source": [
    "print(friendList.keys())"
   ]
  },
  {
   "cell_type": "code",
   "execution_count": null,
   "metadata": {},
   "outputs": [],
   "source": [
    "print(type(friendList['users']))"
   ]
  },
  {
   "cell_type": "code",
   "execution_count": null,
   "metadata": {},
   "outputs": [],
   "source": [
    "for friend in friendList['users']:\n",
    "#     print(type(friend))\n",
    "    print('Name is:',friend['name'])\n",
    "    print('Description is:',friend['description'])"
   ]
  },
  {
   "cell_type": "code",
   "execution_count": null,
   "metadata": {},
   "outputs": [],
   "source": [
    "# i have no idea what use this would be... the id is my twitter id\n",
    "twitter.get_available_trends(id='14394792')"
   ]
  },
  {
   "cell_type": "code",
   "execution_count": null,
   "metadata": {
    "collapsed": true
   },
   "outputs": [],
   "source": [
    "# Full list of Twitter api methoda is at\n",
    "# https://developer.twitter.com/en/docs/api-reference-index"
   ]
  }
 ],
 "metadata": {
  "kernelspec": {
   "display_name": "Python 3",
   "language": "python",
   "name": "python3"
  },
  "language_info": {
   "codemirror_mode": {
    "name": "ipython",
    "version": 3
   },
   "file_extension": ".py",
   "mimetype": "text/x-python",
   "name": "python",
   "nbconvert_exporter": "python",
   "pygments_lexer": "ipython3",
   "version": "3.5.2"
  }
 },
 "nbformat": 4,
 "nbformat_minor": 2
}
